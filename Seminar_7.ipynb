{
 "cells": [
  {
   "attachments": {},
   "cell_type": "markdown",
   "metadata": {},
   "source": [
    "# Задача  \n",
    "**На основе выбранных продуктов из первого вебинара, выберите 2 A/B-теста и составьте план эксперимента, чтобы избежать Peeking Problem**  \n",
    "**Распишите, какие метрики и как вы будете анализировать**"
   ]
  },
  {
   "attachments": {},
   "cell_type": "markdown",
   "metadata": {},
   "source": [
    "# Гипотеза № 1"
   ]
  },
  {
   "attachments": {},
   "cell_type": "markdown",
   "metadata": {},
   "source": [
    "### **Гипотеза**  \n",
    "Если на главной странице маркетплейса https://www.ozon.ru/ сделать баннер только под рекламу сторонних компаний, то количество переходов на сторонние сайты увеличиться на 10%. Увеличиться доход от рекламы. Но при этом показатели ARPU не уменьшаться т.к. не было внесенно существенных изменний по дизайну и структуре сайта."
   ]
  },
  {
   "attachments": {},
   "cell_type": "markdown",
   "metadata": {},
   "source": [
    "### **Что делаем:**  \n",
    "_Контрольная версия:_ Запускаем все в исходном виде.  \n",
    "_Тестовая версия:_ Банер на главной странице предназначеный под рекламу. Запускаем только для рекламы сторонних компаний."
   ]
  },
  {
   "attachments": {},
   "cell_type": "markdown",
   "metadata": {
    "vscode": {
     "languageId": "plaintext"
    }
   },
   "source": [
    "### **На каких пользователях тестируем:**  \n",
    "На 5% от всех пользователей."
   ]
  },
  {
   "cell_type": "code",
   "execution_count": 1,
   "metadata": {},
   "outputs": [],
   "source": [
    "import plotly.graph_objects as go # Для построения графиков\n",
    "from scipy import stats # Для расчёта ститистик\n",
    "import numpy as np # Для работы с массивами данных\n",
    "import plotly.graph_objects as go\n",
    "from plotly.subplots import make_subplots\n",
    "from tqdm import tqdm\n",
    "\n",
    "import scipy.stats as st\n",
    "from statsmodels.stats.power import tt_ind_solve_power\n",
    "from statsmodels.stats.power import zt_ind_solve_power\n",
    "from statsmodels.stats.proportion import proportion_effectsize\n",
    "from statsmodels.stats import proportion\n",
    "from statsmodels.stats.meta_analysis import effectsize_smd\n",
    "import plotly.graph_objects as go\n",
    "from typing import Union"
   ]
  },
  {
   "cell_type": "code",
   "execution_count": 2,
   "metadata": {},
   "outputs": [
    {
     "name": "stdout",
     "output_type": "stream",
     "text": [
      "Difference between samples: -0.004411764705882351, standart error: 5.329323540139159e-05, p_value: 0.0\n",
      "Sample # 2 mean is greater\n"
     ]
    },
    {
     "data": {
      "text/plain": [
       "(-0.004516219447269079, -0.004307309964495624)"
      ]
     },
     "execution_count": 2,
     "metadata": {},
     "output_type": "execute_result"
    }
   ],
   "source": [
    "# Вводим исходные данные по выборка\n",
    "sample_1_click_control, sample_2_click_test = 15_000_000, (15_000_000 + (15_000_000*0.1)) * 0.05\n",
    "sample_1_size_control, sample_2_size_test = 340_000_000, 340_000_000 * 0.05\n",
    "prob_1 = sample_1_click_control / sample_1_size_control\n",
    "prob_2 = sample_2_click_test / sample_2_size_test\n",
    "\n",
    "# Считаем статистику по выборкам\n",
    "se = np.sqrt((prob_1 * (1 - prob_1) / sample_1_size_control) + (prob_2 * (1 - prob_2) / sample_2_size_test))\n",
    "z_score = (prob_1 - prob_2) / se\n",
    "pvalue = stats.norm.sf(abs(z_score)) * 2\n",
    "\n",
    "md = prob_1 - prob_2\n",
    "\n",
    "print(f\"Difference between samples: {md}, standart error: {se}, p_value: {pvalue}\")\n",
    "\n",
    "if pvalue < .05:\n",
    "    print(f\"Sample # {1 if md > 0 else 2} mean is greater\")\n",
    "else:\n",
    "    print(\"No significant difference\")\n",
    "\n",
    "# Считаем доверительный интервал\n",
    "left = md - 1.96 * se\n",
    "right = md + 1.96 * se\n",
    "\n",
    "left, right"
   ]
  },
  {
   "cell_type": "code",
   "execution_count": 8,
   "metadata": {},
   "outputs": [
    {
     "name": "stderr",
     "output_type": "stream",
     "text": [
      "100%|██████████| 1000/1000 [11:12<00:00,  1.49it/s]\n"
     ]
    }
   ],
   "source": [
    "booted_diff = []\n",
    "booted_pvalue = []\n",
    "size = max(sample_1_click_control, sample_2_click_test)\n",
    "for _ in tqdm(range(1000)):\n",
    "    a_s = st.bernoulli.rvs(p=prob_1, size=size)\n",
    "    b_s = st.bernoulli.rvs(p=prob_2, size=size)\n",
    "    booted_diff.append(np.mean(a_s - b_s))\n",
    "    booted_pvalue.append(proportion.proportions_chisquare([a_s.sum(), b_s.sum()], [a_s.size, b_s.size])[1])\n",
    "\n",
    "md_ci, std_ci = np.mean(booted_diff), np.std(booted_diff, ddof=1)\n",
    "left_ci, right_ci = np.percentile(booted_diff, [2.5, 97.5])\n",
    "p_value_ci = 2 * (1 - st.norm.cdf(np.abs(md_ci / std_ci)))"
   ]
  },
  {
   "cell_type": "code",
   "execution_count": 4,
   "metadata": {},
   "outputs": [
    {
     "name": "stdout",
     "output_type": "stream",
     "text": [
      "Mean difference: -0.00441, p-value: 0.0 and confidence interval is: [-0.00458, -0.00426]\n",
      "Sample # 2 mean is greater\n"
     ]
    }
   ],
   "source": [
    "# Доверительный интервал разниц между группами\n",
    "alpha = 0.05\n",
    "print(f\"Mean difference: {np.round(md_ci, 5)}, p-value: {p_value_ci} and confidence interval is: [{np.round(left_ci, 5)}, {np.round(right_ci, 5)}]\")\n",
    "\n",
    "if p_value_ci < alpha and not min(left_ci, right_ci) < 0 < max(left_ci, right_ci):\n",
    "    print(f\"Sample # {1 if md_ci > 0 else 2} mean is greater\")\n",
    "else:\n",
    "    print(\"No significant difference\")"
   ]
  },
  {
   "cell_type": "code",
   "execution_count": 5,
   "metadata": {},
   "outputs": [
    {
     "data": {
      "text/plain": [
       "-0.02099570652984345"
      ]
     },
     "execution_count": 5,
     "metadata": {},
     "output_type": "execute_result"
    }
   ],
   "source": [
    "#Расчёт effect_size для пропорций\n",
    "sample_1_click_control, sample_2_click_test = 15_000_000, (15_000_000 + (15_000_000*0.1)) * 0.05\n",
    "sample_1_size_control, sample_2_size_test = 340_000_000, 340_000_000 * 0.05\n",
    "prob_1, prob_2 = sample_1_click_control/sample_1_size_control, sample_2_click_test/sample_2_size_test\n",
    "prob_1, prob_2\n",
    "# es_formula = 2  * asin(np.sqrt(prob_1)) - 2 * asin(np.sqrt(prob_2))\n",
    "# print(es_formula)\n",
    "es_import = proportion_effectsize(prob_1, prob_2)\n",
    "es_import"
   ]
  },
  {
   "cell_type": "code",
   "execution_count": 6,
   "metadata": {},
   "outputs": [
    {
     "data": {
      "text/plain": [
       "71220"
      ]
     },
     "execution_count": 6,
     "metadata": {},
     "output_type": "execute_result"
    }
   ],
   "source": [
    "#Расчёт минимально необходимой выборки * 2(для теста и контроля) для пропорций\n",
    "def calc_sample_size_proportion(effect_size: float,\n",
    "                                alpha: float = .05,\n",
    "                                beta: float = .2,\n",
    "                                ratio: Union[float, int] = 1):\n",
    "    \n",
    "    n = zt_ind_solve_power(effect_size=effect_size,\n",
    "                           alpha=alpha,\n",
    "                           power=(1 - beta),\n",
    "                           ratio=ratio,\n",
    "                  )\n",
    "    return int(n * 2)\n",
    "Number_of_esperements = calc_sample_size_proportion(effect_size=es_import, alpha=.05, beta=.2)\n",
    "Number_of_esperements\n"
   ]
  },
  {
   "cell_type": "code",
   "execution_count": 7,
   "metadata": {},
   "outputs": [
    {
     "data": {
      "text/plain": [
       "9.049129411764707"
      ]
     },
     "execution_count": 7,
     "metadata": {},
     "output_type": "execute_result"
    }
   ],
   "source": [
    "#Расчет количества дней для эксперемента.\n",
    "Person_per_day = sample_1_size_control/43200     #43200 это количество минут в месяце\n",
    "\n",
    "\n",
    "Number_of_days = Number_of_esperements / Person_per_day\n",
    "Number_of_days"
   ]
  },
  {
   "attachments": {},
   "cell_type": "markdown",
   "metadata": {},
   "source": [
    "**Вывод:** После проведения эксперемента выявлено, что для проведения эксперемента потребуется 9 минут.Атакже принимаем тестовую версию, птому что p-value < alpha и довертельный интервал отрицательный и не прохоит через ноль."
   ]
  }
 ],
 "metadata": {
  "kernelspec": {
   "display_name": "Python 3",
   "language": "python",
   "name": "python3"
  },
  "language_info": {
   "codemirror_mode": {
    "name": "ipython",
    "version": 3
   },
   "file_extension": ".py",
   "mimetype": "text/x-python",
   "name": "python",
   "nbconvert_exporter": "python",
   "pygments_lexer": "ipython3",
   "version": "3.10.11"
  },
  "orig_nbformat": 4
 },
 "nbformat": 4,
 "nbformat_minor": 2
}
