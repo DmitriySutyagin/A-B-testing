{
 "cells": [
  {
   "attachments": {},
   "cell_type": "markdown",
   "metadata": {},
   "source": [
    "## Задача 1"
   ]
  },
  {
   "attachments": {},
   "cell_type": "markdown",
   "metadata": {},
   "source": [
    "**Вы провели эксперимент c упрощением формы заказа в магазине Утконос и получили результаты по метрике конверсий в покупку. Выберите метод оценки и оцените есть ли стат.значимые различия между конверсиями в двух группах при alpha = 5%.  \n",
    "Дайте краткие рекомендации команде .Результаты: 1)Число юзеров в группах , которые заходили на сайт в период эксперимента: n1 = 15550 и n2 = 15550.  \n",
    "Число юзеров в группах , которые совершили хотя бы одну покупку за период эксперимента: n1 = 164 и n2 = 228  \n",
    "Конверсии : conv1 = 1.05% conv2 = 1.47%.**"
   ]
  },
  {
   "attachments": {},
   "cell_type": "markdown",
   "metadata": {},
   "source": [
    "## Импорт необходимых библиотек\n"
   ]
  },
  {
   "cell_type": "code",
   "execution_count": 5,
   "metadata": {},
   "outputs": [],
   "source": [
    "import plotly.graph_objects as go # Для построения графиков\n",
    "from scipy import stats # Для расчёта ститистик\n",
    "import numpy as np # Для работы с массивами данных"
   ]
  },
  {
   "cell_type": "code",
   "execution_count": 15,
   "metadata": {},
   "outputs": [
    {
     "name": "stdout",
     "output_type": "stream",
     "text": [
      "Difference between samples: -0.004129032258064515, standart error: 0.0012690356490794444, p_value: 0.0011392168150319735\n",
      "Sample # 2 mean is greater\n"
     ]
    },
    {
     "data": {
      "text/plain": [
       "(-0.006616342130260227, -0.0016417223858688043)"
      ]
     },
     "execution_count": 15,
     "metadata": {},
     "output_type": "execute_result"
    }
   ],
   "source": [
    "# Вводим исходные данные по выборкам\n",
    "sample_1_converted, sample_2_converted = 164, 228\n",
    "sample_1_size, sample_2_size = 15500, 15500\n",
    "prob_1 = sample_1_converted / sample_1_size\n",
    "prob_2 = sample_2_converted / sample_2_size\n",
    "\n",
    "# Считаем статистику по выборкам\n",
    "se = np.sqrt((prob_1 * (1 - prob_1) / sample_1_size) + (prob_2 * (1 - prob_2) / sample_2_size))\n",
    "z_score = (prob_1 - prob_2) / se\n",
    "pvalue = stats.norm.sf(abs(z_score)) * 2\n",
    "\n",
    "md = prob_1 - prob_2\n",
    "\n",
    "print(f\"Difference between samples: {md}, standart error: {se}, p_value: {pvalue}\")\n",
    "\n",
    "if pvalue < .05:\n",
    "    print(f\"Sample # {1 if md > 0 else 2} mean is greater\")\n",
    "else:\n",
    "    print(\"No significant difference\")\n",
    "\n",
    "# Считаем доверительный интервал\n",
    "left = md - 1.96 * se\n",
    "right = md + 1.96 * se\n",
    "\n",
    "left, right"
   ]
  },
  {
   "cell_type": "code",
   "execution_count": null,
   "metadata": {},
   "outputs": [],
   "source": [
    "np.percen"
   ]
  },
  {
   "attachments": {},
   "cell_type": "markdown",
   "metadata": {},
   "source": [
    "**Вывод:** После проведения теста принимаем вторую выборку. Т.к. P-value < 0.05 и доверительный интервал отрицательный а также не прохоидит через 0."
   ]
  },
  {
   "attachments": {},
   "cell_type": "markdown",
   "metadata": {},
   "source": [
    "## Задача 2"
   ]
  },
  {
   "attachments": {},
   "cell_type": "markdown",
   "metadata": {},
   "source": [
    "**Сравниваем метрику конверсия в покупку. Размер выборки - 10000 элементов в каждой группе . Какой статистический критерий тут лучше всего подойдёт и почему ?**"
   ]
  }
 ],
 "metadata": {
  "kernelspec": {
   "display_name": "ProbabilityTheory",
   "language": "python",
   "name": "python3"
  },
  "language_info": {
   "codemirror_mode": {
    "name": "ipython",
    "version": 3
   },
   "file_extension": ".py",
   "mimetype": "text/x-python",
   "name": "python",
   "nbconvert_exporter": "python",
   "pygments_lexer": "ipython3",
   "version": "3.11.1"
  },
  "orig_nbformat": 4
 },
 "nbformat": 4,
 "nbformat_minor": 2
}
